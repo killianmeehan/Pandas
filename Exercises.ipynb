{
 "cells": [
  {
   "cell_type": "code",
   "execution_count": 24,
   "metadata": {},
   "outputs": [],
   "source": [
    "#import libraries\n",
    "import numpy as np\n",
    "import pandas as pd\n"
   ]
  },
  {
   "cell_type": "code",
   "execution_count": 28,
   "metadata": {},
   "outputs": [
    {
     "data": {
      "text/plain": [
       "MovieID           0\n",
       "Title             1\n",
       "MPAA Rating       1\n",
       "Budget            1\n",
       "Gross             1\n",
       "Release Date      1\n",
       "Genre             1\n",
       "Runtime           1\n",
       "Rating          108\n",
       "Rating Count    108\n",
       "Summary         120\n",
       "dtype: int64"
      ]
     },
     "execution_count": 28,
     "metadata": {},
     "output_type": "execute_result"
    }
   ],
   "source": [
    "df = pd.read_csv('movies_2.csv') # Gathering data\n",
    "#df.head() # See first few lines to ensure it imported correctly\n",
    "#df.info() # Can't get shape using shape method as it is a tuple. So using info instead. \n",
    "# This also gives number of columns and data type\n",
    "df.isnull().sum() #shows how many null entries are inwhich columns (but not where)\n",
    "# check for MPAA Rating, Budget, Gross, Release Date, Genre, Runtime, Rating and Rating Count columns how many NaN we have\n",
    "# understanding which kind of information each column represents"
   ]
  }
 ],
 "metadata": {
  "interpreter": {
   "hash": "b3ba2566441a7c06988d0923437866b63cedc61552a5af99d1f4fb67d367b25f"
  },
  "kernelspec": {
   "display_name": "Python 3.8.8 64-bit ('base': conda)",
   "name": "python3"
  },
  "language_info": {
   "codemirror_mode": {
    "name": "ipython",
    "version": 3
   },
   "file_extension": ".py",
   "mimetype": "text/x-python",
   "name": "python",
   "nbconvert_exporter": "python",
   "pygments_lexer": "ipython3",
   "version": "3.8.8"
  },
  "orig_nbformat": 4
 },
 "nbformat": 4,
 "nbformat_minor": 2
}
