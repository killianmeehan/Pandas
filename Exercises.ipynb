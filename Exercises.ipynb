{
 "cells": [
  {
   "cell_type": "code",
   "execution_count": 1,
   "metadata": {},
   "outputs": [],
   "source": [
    "#import libraries\n",
    "import numpy as np\n",
    "import pandas as pd\n"
   ]
  },
  {
   "cell_type": "code",
   "execution_count": 2,
   "metadata": {},
   "outputs": [
    {
     "name": "stdout",
     "output_type": "stream",
     "text": [
      "<class 'pandas.core.frame.DataFrame'>\n",
      "RangeIndex: 616 entries, 0 to 615\n",
      "Data columns (total 11 columns):\n",
      " #   Column        Non-Null Count  Dtype  \n",
      "---  ------        --------------  -----  \n",
      " 0   MovieID       616 non-null    int64  \n",
      " 1   Title         615 non-null    object \n",
      " 2   MPAA Rating   615 non-null    object \n",
      " 3   Budget        615 non-null    float64\n",
      " 4   Gross         615 non-null    float64\n",
      " 5   Release Date  615 non-null    object \n",
      " 6   Genre         615 non-null    object \n",
      " 7   Runtime       615 non-null    float64\n",
      " 8   Rating        508 non-null    float64\n",
      " 9   Rating Count  508 non-null    float64\n",
      " 10  Summary       496 non-null    object \n",
      "dtypes: float64(5), int64(1), object(5)\n",
      "memory usage: 53.1+ KB\n"
     ]
    }
   ],
   "source": [
    "df = pd.read_csv('movies_2.csv') # Gathering data\n",
    "\n",
    "#df.head() # See first few lines to ensure it imported correctly\n",
    "\n",
    "df.info() # Can't get shape using shape method as it is a tuple. So using info instead. \n",
    "# This also gives number of columns and data type\n",
    "\n",
    "#df.isnull().sum() #shows how many null entries are in which columns (but not where)\n",
    "\n",
    "# check for MPAA Rating, Budget, Gross, Release Date, Genre, Runtime, Rating and Rating Count columns how many NaN we have\n",
    "\n",
    "# understanding which kind of information each column represents (Dtype shows this)"
   ]
  },
  {
   "cell_type": "code",
   "execution_count": null,
   "metadata": {},
   "outputs": [],
   "source": [
    "# Remove all irrelevant data in the dataset. Get rid of the Summary column\n",
    "df.drop([\"Summary\"], axis = 1, inplace = True)\n",
    "df.info()\n"
   ]
  },
  {
   "cell_type": "code",
   "execution_count": null,
   "metadata": {},
   "outputs": [],
   "source": []
  },
  {
   "cell_type": "code",
   "execution_count": null,
   "metadata": {},
   "outputs": [],
   "source": [
    "# Two methods for showing duplicates. First one \n",
    "titles = df[\"Title\"]\n",
    "df[titles.isin(titles[titles.duplicated()])].sort_values(\"Title\")\n",
    "\n",
    "#second one is a little more \"advanced\". The underscore is a placeholder for an argument, where we don't want to use it for anything in a lambda-like expression.\n",
    "#pd.concat(g for _, g in df.groupby(\"Title\") if len(g) > 1)"
   ]
  },
  {
   "cell_type": "code",
   "execution_count": null,
   "metadata": {},
   "outputs": [],
   "source": [
    "#df[df.isnull().any(axis=1)] #to show all NaN through the entire DataFrame. isna does the exact same thing, originally \n",
    "#came from R where they are different. \n",
    "df[df['Rating'].isnull()] #could be used to look under a specific column. Here we see last row is full of NaNs."
   ]
  },
  {
   "cell_type": "code",
   "execution_count": null,
   "metadata": {},
   "outputs": [],
   "source": [
    "df.drop([615], axis = 0, inplace = True) #axis=0 tells it to look in Index, not columns. inplace is boolean, works on copy if false, else works on actual dataset.\n",
    "#df.info() #confirming it has been removed.\n",
    "df.tail() #confirming that it has been removed.\n"
   ]
  },
  {
   "cell_type": "code",
   "execution_count": null,
   "metadata": {},
   "outputs": [],
   "source": [
    "print(sorted(df['Genre'].unique())) #using .unique to see exactly which genres are present. Checking to make sure spelling etc is coherent across the dataset to avoid spurious subcategories.\n",
    "#can also use numpy as that is what is used in background anyway. In which case \n",
    "#np.sort(df.Genre.unique()) #or \n",
    "#np.sort(df['Genre'].unique())"
   ]
  },
  {
   "cell_type": "code",
   "execution_count": null,
   "metadata": {},
   "outputs": [],
   "source": [
    "#Convert Budget and Gross into float type (use astype() method). Although they were already Float.\n",
    "df['Budget'] = df['Budget'].astype(float)\n",
    "df['Gross'] = df['Gross'].astype(float)\n",
    "#df.info()\n",
    "df.head()\n"
   ]
  },
  {
   "cell_type": "code",
   "execution_count": null,
   "metadata": {},
   "outputs": [],
   "source": [
    "df.hist(column='Rating', bins=100)"
   ]
  },
  {
   "cell_type": "code",
   "execution_count": null,
   "metadata": {},
   "outputs": [],
   "source": [
    "#for most of these we have several filters. Multiple methods available in Pandas. \n",
    "\n",
    "# df.loc[(df['Salary_in_1000']>=100) & (df['Age']< 60) & (df['FT_Team'].str.contains('Bad')),['Name','FT_Team']]\n",
    "# idx = np.where((df['Salary_in_1000']>=100) & (df['Age']< 60) & (df['FT_Team'].str.match('Badgers'))) which is then fed to dataframe loc function df.loc[idx]\n",
    "# or use a boolean expression e.g. df.query('Salary_in_1000 >= 100 & Age < 60 & FT_Team.str.startswith(\"S\").values') which only works for values in a column\n"
   ]
  },
  {
   "cell_type": "code",
   "execution_count": null,
   "metadata": {},
   "outputs": [],
   "source": [
    "#show the movies with more than 7 in Rating & greater than 50 million Gross\n",
    "df.loc[(df['Rating']>7) & (df['Gross']> 50e6)]"
   ]
  },
  {
   "cell_type": "code",
   "execution_count": null,
   "metadata": {},
   "outputs": [],
   "source": [
    "#show the movies with more than 7 in Rating & greater than 50 million Gross & with Parental guidance as MPAA Rating\n",
    "df.loc[(df['Rating']>7) & (df['Gross']> 50e6) & (df['MPAA Rating'] == ('PG'))]"
   ]
  },
  {
   "cell_type": "code",
   "execution_count": null,
   "metadata": {},
   "outputs": [],
   "source": [
    "#count of Animation movies with more than 7 in Rating (use the count() function)\n",
    "\n",
    "good_ani = df.loc[(df['Genre']==('Animation')) & (df['Rating']>7)]\n",
    "good_ani.count()"
   ]
  },
  {
   "cell_type": "code",
   "execution_count": null,
   "metadata": {},
   "outputs": [],
   "source": [
    "#show the list of top 5 movies based on Budget. Easy shortcut by using .head().\n",
    "top_5 = df.sort_values(by=\"Budget\", ascending=False).head()\n",
    "top_5.plot(x=\"Title\", y=\"Budget\", kind=\"bar\", rot=5, fontsize=5)"
   ]
  },
  {
   "cell_type": "code",
   "execution_count": null,
   "metadata": {},
   "outputs": [],
   "source": [
    "#show the top 5 Comedy movies approved by the audience (use Rating)\n",
    "df.loc[(df['Genre']== ('Comedy'))].nlargest(5,'Rating')"
   ]
  },
  {
   "cell_type": "code",
   "execution_count": null,
   "metadata": {},
   "outputs": [],
   "source": [
    "#top 5 movie names by Rating\n",
    "top_5 = df.sort_values(by=\"Rating\", ascending=False).head()\n",
    "top_5.plot(x=\"Title\", y=\"Rating\", kind=\"bar\", rot=5, fontsize=5)"
   ]
  },
  {
   "cell_type": "code",
   "execution_count": null,
   "metadata": {},
   "outputs": [],
   "source": [
    "#top 3 high Gross Romance movies produced after 2000\n",
    "df.loc[(df['Genre']== ('Romance')) & (df['Release Date'].str.contains('200'))].nlargest(3,'Gross')"
   ]
  },
  {
   "cell_type": "code",
   "execution_count": null,
   "metadata": {},
   "outputs": [],
   "source": [
    "#how many Genres are present in the dataframe? (use the function value_counts() which applies to Series, not Dataframe)\n",
    "\n",
    "Genres = pd.Series(df['Genre'])\n",
    "pd.value_counts(Genres)\n",
    "\n",
    "# As the actual question specifies the *number* of genres, I would like to use a different method. \n",
    "# len(sorted(df['Genre'].unique()))\n"
   ]
  },
  {
   "cell_type": "code",
   "execution_count": null,
   "metadata": {},
   "outputs": [],
   "source": [
    "#top 5 expensive movies produced after 2000 (measured by Budget)\n",
    "df.loc[(df['Release Date'].str.contains('200'))].nlargest(5,'Budget')"
   ]
  },
  {
   "cell_type": "code",
   "execution_count": null,
   "metadata": {},
   "outputs": [],
   "source": [
    "#most & least frequent MPAA Rating in the dataset in terms of occurences\n",
    "df['MPAA Rating'].value_counts(normalize=True)\n",
    "#groupby and .size() could also be used for actual number of occurences instead of relative frequency."
   ]
  },
  {
   "cell_type": "code",
   "execution_count": null,
   "metadata": {},
   "outputs": [],
   "source": [
    "#most and least expensive Genre (take an average of all Budget measures grouped by Genre - use groupBy() method)\n",
    "genre_budget =  df.groupby(['Genre'],as_index=False).Budget.mean().sort_values('Budget', ascending=False)\n",
    "print(genre_budget)"
   ]
  },
  {
   "cell_type": "code",
   "execution_count": null,
   "metadata": {},
   "outputs": [],
   "source": [
    "#which Genre is favored the most by the people? #use highest rating count and number of ratings??\n",
    "best_genre =  df.groupby(['Genre'],as_index=False).Rating.mean().sort_values('Rating', ascending=False)\n",
    "print(best_genre)"
   ]
  }
 ],
 "metadata": {
  "interpreter": {
   "hash": "b3ba2566441a7c06988d0923437866b63cedc61552a5af99d1f4fb67d367b25f"
  },
  "kernelspec": {
   "display_name": "Python 3.8.8 64-bit ('base': conda)",
   "name": "python3"
  },
  "language_info": {
   "codemirror_mode": {
    "name": "ipython",
    "version": 3
   },
   "file_extension": ".py",
   "mimetype": "text/x-python",
   "name": "python",
   "nbconvert_exporter": "python",
   "pygments_lexer": "ipython3",
   "version": "3.8.8"
  },
  "orig_nbformat": 4
 },
 "nbformat": 4,
 "nbformat_minor": 2
}
