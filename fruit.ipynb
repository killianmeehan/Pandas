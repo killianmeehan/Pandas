{
 "cells": [
  {
   "cell_type": "code",
   "execution_count": null,
   "metadata": {},
   "outputs": [],
   "source": [
    "import pandas as pd"
   ]
  },
  {
   "cell_type": "code",
   "execution_count": null,
   "metadata": {},
   "outputs": [],
   "source": [
    "fruity = pd.read_csv('fruit.csv')\n",
    "tooty = pd.read_csv('fruit copy.csv')"
   ]
  },
  {
   "cell_type": "code",
   "execution_count": 36,
   "metadata": {},
   "outputs": [
    {
     "data": {
      "text/html": [
       "<div>\n",
       "<style scoped>\n",
       "    .dataframe tbody tr th:only-of-type {\n",
       "        vertical-align: middle;\n",
       "    }\n",
       "\n",
       "    .dataframe tbody tr th {\n",
       "        vertical-align: top;\n",
       "    }\n",
       "\n",
       "    .dataframe thead th {\n",
       "        text-align: right;\n",
       "    }\n",
       "</style>\n",
       "<table border=\"1\" class=\"dataframe\">\n",
       "  <thead>\n",
       "    <tr style=\"text-align: right;\">\n",
       "      <th></th>\n",
       "      <th>Fruit</th>\n",
       "      <th>Weight</th>\n",
       "      <th>Price</th>\n",
       "      <th>Discount</th>\n",
       "      <th>Color</th>\n",
       "    </tr>\n",
       "  </thead>\n",
       "  <tbody>\n",
       "    <tr>\n",
       "      <th>0</th>\n",
       "      <td>Apple</td>\n",
       "      <td>10.0</td>\n",
       "      <td>1.25</td>\n",
       "      <td>10</td>\n",
       "      <td>Red</td>\n",
       "    </tr>\n",
       "    <tr>\n",
       "      <th>1</th>\n",
       "      <td>Grape</td>\n",
       "      <td>2.0</td>\n",
       "      <td>2.30</td>\n",
       "      <td>5</td>\n",
       "      <td>Purple</td>\n",
       "    </tr>\n",
       "    <tr>\n",
       "      <th>2</th>\n",
       "      <td>Banana</td>\n",
       "      <td>3.5</td>\n",
       "      <td>4.00</td>\n",
       "      <td>15</td>\n",
       "      <td>Yellow</td>\n",
       "    </tr>\n",
       "    <tr>\n",
       "      <th>3</th>\n",
       "      <td>Melon</td>\n",
       "      <td>4.0</td>\n",
       "      <td>1.80</td>\n",
       "      <td>25</td>\n",
       "      <td>Green</td>\n",
       "    </tr>\n",
       "    <tr>\n",
       "      <th>4</th>\n",
       "      <td>Lemon</td>\n",
       "      <td>1.0</td>\n",
       "      <td>2.25</td>\n",
       "      <td>20</td>\n",
       "      <td>Green</td>\n",
       "    </tr>\n",
       "    <tr>\n",
       "      <th>5</th>\n",
       "      <td>Orange</td>\n",
       "      <td>6.0</td>\n",
       "      <td>3.45</td>\n",
       "      <td>30</td>\n",
       "      <td>Orange</td>\n",
       "    </tr>\n",
       "  </tbody>\n",
       "</table>\n",
       "</div>"
      ],
      "text/plain": [
       "    Fruit  Weight  Price  Discount   Color\n",
       "0   Apple    10.0   1.25        10     Red\n",
       "1   Grape     2.0   2.30         5  Purple\n",
       "2  Banana     3.5   4.00        15  Yellow\n",
       "3   Melon     4.0   1.80        25   Green\n",
       "4   Lemon     1.0   2.25        20   Green\n",
       "5  Orange     6.0   3.45        30  Orange"
      ]
     },
     "execution_count": 36,
     "metadata": {},
     "output_type": "execute_result"
    }
   ],
   "source": [
    "fruity"
   ]
  },
  {
   "cell_type": "code",
   "execution_count": 37,
   "metadata": {},
   "outputs": [
    {
     "data": {
      "text/html": [
       "<div>\n",
       "<style scoped>\n",
       "    .dataframe tbody tr th:only-of-type {\n",
       "        vertical-align: middle;\n",
       "    }\n",
       "\n",
       "    .dataframe tbody tr th {\n",
       "        vertical-align: top;\n",
       "    }\n",
       "\n",
       "    .dataframe thead th {\n",
       "        text-align: right;\n",
       "    }\n",
       "</style>\n",
       "<table border=\"1\" class=\"dataframe\">\n",
       "  <thead>\n",
       "    <tr style=\"text-align: right;\">\n",
       "      <th></th>\n",
       "      <th>Plants</th>\n",
       "      <th>Size</th>\n",
       "    </tr>\n",
       "  </thead>\n",
       "  <tbody>\n",
       "    <tr>\n",
       "      <th>0</th>\n",
       "      <td>Apple</td>\n",
       "      <td>Medium</td>\n",
       "    </tr>\n",
       "    <tr>\n",
       "      <th>1</th>\n",
       "      <td>Melon</td>\n",
       "      <td>Large</td>\n",
       "    </tr>\n",
       "    <tr>\n",
       "      <th>2</th>\n",
       "      <td>Lemon</td>\n",
       "      <td>Small</td>\n",
       "    </tr>\n",
       "    <tr>\n",
       "      <th>3</th>\n",
       "      <td>Orange</td>\n",
       "      <td>Medium</td>\n",
       "    </tr>\n",
       "  </tbody>\n",
       "</table>\n",
       "</div>"
      ],
      "text/plain": [
       "   Plants    Size\n",
       "0   Apple  Medium\n",
       "1   Melon   Large\n",
       "2   Lemon   Small\n",
       "3  Orange  Medium"
      ]
     },
     "execution_count": 37,
     "metadata": {},
     "output_type": "execute_result"
    }
   ],
   "source": [
    "tooty"
   ]
  },
  {
   "cell_type": "code",
   "execution_count": null,
   "metadata": {},
   "outputs": [],
   "source": [
    "#fruity['Size'] = fruity.apply(lambda x: [[fruity.Fruit]==[tooty.Plants]], axis=1)"
   ]
  },
  {
   "cell_type": "code",
   "execution_count": null,
   "metadata": {},
   "outputs": [],
   "source": [
    "#fruity['Size'] = fruity['Fruit'].assign(lambda x: tooty [tooty['Plants']== x]['Size'] if x in tooty['Plants'] else 0)"
   ]
  },
  {
   "cell_type": "code",
   "execution_count": null,
   "metadata": {},
   "outputs": [],
   "source": [
    "fruity"
   ]
  },
  {
   "cell_type": "code",
   "execution_count": null,
   "metadata": {},
   "outputs": [],
   "source": [
    "#for i, j in zip(fruity.index, fruity['Fruit']):\n",
    "#    print(i,j)\n",
    "#    if j in list(tooty['Plants']):\n",
    "#        print ('yes')\n",
    "#        fruity.loc [i, 'Size'] = tooty[tooty['Plants'] == j]['Size']\n",
    "#    else:\n",
    "#        print('no')"
   ]
  },
  {
   "cell_type": "code",
   "execution_count": null,
   "metadata": {},
   "outputs": [],
   "source": [
    "new_fruit = fruity.merge(tooty, how=\"left\", left_on=\"Fruit\", right_on=\"Plants\")\n",
    "new_fruit.drop(\"Plants\", axis=1)"
   ]
  },
  {
   "cell_type": "code",
   "execution_count": 43,
   "metadata": {},
   "outputs": [
    {
     "ename": "SyntaxError",
     "evalue": "invalid syntax (<ipython-input-43-62215ff374b2>, line 14)",
     "output_type": "error",
     "traceback": [
      "\u001b[1;36m  File \u001b[1;32m\"<ipython-input-43-62215ff374b2>\"\u001b[1;36m, line \u001b[1;32m14\u001b[0m\n\u001b[1;33m    dataframe3 = dataframe.assign(Nicknames = lambda x: (x[dataframe2.Nicknames] while dataframe[\"Student Names\"] == dataframe2.Students))\u001b[0m\n\u001b[1;37m                                                                                 ^\u001b[0m\n\u001b[1;31mSyntaxError\u001b[0m\u001b[1;31m:\u001b[0m invalid syntax\n"
     ]
    }
   ],
   "source": [
    "import pandas as pd\n",
    "   \n",
    "# initialization of list\n",
    "students_record= [['Samreena',900],['Mehwish',750],['Asif',895],['Mirha',800],['Affan',850],['Raees',950]] \n",
    "\n",
    "students_record2= [['Mehwish','blob'],['Asif','job'],['Mirha','sob'],['Raees','rob']]         \n",
    "  \n",
    "# pandas dataframe creation\n",
    "dataframe = pd.DataFrame(students_record,columns=['Student Names','Student Marks'])\n",
    "dataframe2 = pd.DataFrame(students_record2,columns=['Students','Nicknames'])\n",
    "  \n",
    "# using Lambda function \n",
    "dataframe1 = dataframe.assign(Percentage = lambda x: (x['Student Marks'] /1000 * 100))\n",
    "dataframe3 = dataframe.assign(Nicknames = lambda x: (x[dataframe2.Nicknames] where dataframe[\"Student Names\"] == dataframe2.Students))\n",
    "  \n",
    "# display dataframe\n",
    "display(dataframe1)\n",
    "display(dataframe2)"
   ]
  },
  {
   "cell_type": "code",
   "execution_count": 33,
   "metadata": {},
   "outputs": [
    {
     "name": "stdout",
     "output_type": "stream",
     "text": [
      "  Letters  Numbers\n",
      "0       a        1\n",
      "1       b        2\n",
      "2       c        3\n"
     ]
    }
   ],
   "source": [
    "df1 = pd. DataFrame({\"Letters\": [\"a\", \"b\", \"c\"]})\n",
    "df2 = pd. DataFrame({\"Letters\": [\"d\", \"e\", \"f\"], \"Numbers\": [1, 2, 3]})\n",
    "numbers = df2[\"Numbers\"]\n",
    "df1 = df1.join(numbers) #append 'numbers' to 'df1'\n",
    "print(df1)"
   ]
  },
  {
   "cell_type": "code",
   "execution_count": 38,
   "metadata": {},
   "outputs": [
    {
     "ename": "SyntaxError",
     "evalue": "invalid syntax (<ipython-input-38-fa4552506264>, line 1)",
     "output_type": "error",
     "traceback": [
      "\u001b[1;36m  File \u001b[1;32m\"<ipython-input-38-fa4552506264>\"\u001b[1;36m, line \u001b[1;32m1\u001b[0m\n\u001b[1;33m    fruity.join(tooty.Size) where fruity.Fruit = tooty.Plants\u001b[0m\n\u001b[1;37m                            ^\u001b[0m\n\u001b[1;31mSyntaxError\u001b[0m\u001b[1;31m:\u001b[0m invalid syntax\n"
     ]
    }
   ],
   "source": [
    "fruity.join(tooty.Size) where fruity.Fruit = tooty.Plants"
   ]
  }
 ],
 "metadata": {
  "interpreter": {
   "hash": "ad2bdc8ecc057115af97d19610ffacc2b4e99fae6737bb82f5d7fb13d2f2c186"
  },
  "kernelspec": {
   "display_name": "Python 3.8.8 ('base')",
   "language": "python",
   "name": "python3"
  },
  "language_info": {
   "codemirror_mode": {
    "name": "ipython",
    "version": 3
   },
   "file_extension": ".py",
   "mimetype": "text/x-python",
   "name": "python",
   "nbconvert_exporter": "python",
   "pygments_lexer": "ipython3",
   "version": "3.8.8"
  },
  "orig_nbformat": 4
 },
 "nbformat": 4,
 "nbformat_minor": 2
}
